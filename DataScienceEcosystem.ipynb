{
 "cells": [
  {
   "cell_type": "markdown",
   "id": "d85f54ea-9164-4fe9-bf36-d9b6e23a5bcc",
   "metadata": {},
   "source": [
    "# Data Science Tools and Ecosystem"
   ]
  },
  {
   "cell_type": "markdown",
   "id": "ed63d249-a558-459d-8720-7e5f031c5236",
   "metadata": {},
   "source": [
    "In this notebook, Data Science Tools and Ecosystem are summarized.\n"
   ]
  },
  {
   "cell_type": "markdown",
   "id": "89a1a4b0-671f-4f8f-94c5-a989ba4ee0f9",
   "metadata": {
    "tags": []
   },
   "source": [
    "Some of the popular languages that Data Scientists use are:\n",
    " 1. R\n",
    " 2. Python\n",
    " 3. C++"
   ]
  },
  {
   "cell_type": "markdown",
   "id": "5f7ffb7a-c8bf-4ff7-a812-fb3dd98e28a7",
   "metadata": {},
   "source": [
    "Some of the commonly used libraries used by Data Scientists include:\n",
    "1. Pandas\n",
    "2. NumPy\n",
    "3. Keras\n",
    "4. Tensorflow"
   ]
  },
  {
   "cell_type": "markdown",
   "id": "9c34dbb9-df98-4f85-9403-175ad57e5757",
   "metadata": {},
   "source": [
    "| Data Science Tools |\n",
    "| ---- |\n",
    "| Jupyter Notebook |\n",
    "| Jupyter Lab |\n",
    "| Google Colab |"
   ]
  },
  {
   "cell_type": "markdown",
   "id": "b48ca0af-f73f-48b5-bc83-10b65ba2f0a8",
   "metadata": {
    "tags": []
   },
   "source": [
    "### Below are a few examples of evaluating arithmetic expressions in Python."
   ]
  },
  {
   "cell_type": "code",
   "execution_count": 3,
   "id": "3eea34c3-10ac-49c6-846a-dd4110f35a64",
   "metadata": {
    "tags": []
   },
   "outputs": [
    {
     "data": {
      "text/plain": [
       "17"
      ]
     },
     "execution_count": 3,
     "metadata": {},
     "output_type": "execute_result"
    }
   ],
   "source": [
    "# This a simple arithmetic expression to mutiply then add integers\n",
    "(3*4)+5"
   ]
  },
  {
   "cell_type": "code",
   "execution_count": 5,
   "id": "0d585643-825d-4b1c-aeb6-4667ba172ef9",
   "metadata": {
    "tags": []
   },
   "outputs": [
    {
     "data": {
      "text/plain": [
       "3.3333333333333335"
      ]
     },
     "execution_count": 5,
     "metadata": {},
     "output_type": "execute_result"
    }
   ],
   "source": [
    "# This will convert 200 minutes to hours by diving by 60\n",
    "200/60"
   ]
  },
  {
   "cell_type": "markdown",
   "id": "b823077e-b945-4e05-935f-b9cb57115367",
   "metadata": {},
   "source": [
    "# Objectives:"
   ]
  },
  {
   "cell_type": "markdown",
   "id": "3871da0a-840c-4476-9513-43943dc396f3",
   "metadata": {},
   "source": [
    "- popular languages that Data Scientists use\n",
    "- Evaluation of arithmatic expression\n",
    "- Commonly used libraries from data scientist"
   ]
  },
  {
   "cell_type": "markdown",
   "id": "7d083355-95b4-46cd-a537-e0f926d7fdc0",
   "metadata": {},
   "source": [
    "## Author\n",
    "Nikhil Mandale"
   ]
  }
 ],
 "metadata": {
  "kernelspec": {
   "display_name": "Python",
   "language": "python",
   "name": "conda-env-python-py"
  },
  "language_info": {
   "codemirror_mode": {
    "name": "ipython",
    "version": 3
   },
   "file_extension": ".py",
   "mimetype": "text/x-python",
   "name": "python",
   "nbconvert_exporter": "python",
   "pygments_lexer": "ipython3",
   "version": "3.7.12"
  }
 },
 "nbformat": 4,
 "nbformat_minor": 5
}
